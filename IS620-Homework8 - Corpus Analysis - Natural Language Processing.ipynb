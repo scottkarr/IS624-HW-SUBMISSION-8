{
 "cells": [
  {
   "cell_type": "markdown",
   "metadata": {},
   "source": [
    "### Assignment8 – High Frequency Words\n",
    "\n",
    "1. Choose a corpus of interest.\n",
    "2. How many total unique words are in the corpus? (define unique words in any interesting, defensible way).\n",
    "3. Taking the most common words, how many unique words represent half of the total words in the corpus?\n",
    "4. Identify the 200 highest frequency words in this corpus.\n",
    "5. Create a graph that shows the relative frequency of these 200 words.\n",
    "6. Does the observed relative frequency of these words follow Zipf’s law? Explain.\n",
    "7. In what ways do you think the frequency of the words in this corpus differ from “all words in all corpora.”"
   ]
  },
  {
   "cell_type": "markdown",
   "metadata": {},
   "source": [
    "## 1. Choose a corpus of interest.\n",
    "\n",
    "semcor\n",
    "The Brown Corpus, annotated with WordNet senses."
   ]
  },
  {
   "cell_type": "code",
   "execution_count": 427,
   "metadata": {},
   "outputs": [],
   "source": [
    "from nltk.corpus import semcor\n",
    "import nltk"
   ]
  },
  {
   "cell_type": "code",
   "execution_count": 428,
   "metadata": {},
   "outputs": [],
   "source": [
    "WordNet = semcor.words('brown2/tagfiles/br-n12.xml')  # doctest: +ELLIPSIS"
   ]
  },
  {
   "cell_type": "markdown",
   "metadata": {},
   "source": [
    "## 2. How many total unique words are in the corpus? \n",
    "define unique words in any interesting, defensible way\n",
    "\n",
    "    a)  get a nominal count of words in the corpus\n",
    "    b)  get statistics on word corpus \n",
    "    c)  filter out characters that don't represent words "
   ]
  },
  {
   "cell_type": "code",
   "execution_count": 193,
   "metadata": {},
   "outputs": [
    {
     "data": {
      "text/plain": [
       "727"
      ]
     },
     "execution_count": 193,
     "metadata": {},
     "output_type": "execute_result"
    }
   ],
   "source": [
    "#keys in frequency distribution will give unique occurances of each distinct word type\n",
    "len(nltk.FreqDist([w for w in WordNet]).keys())"
   ]
  },
  {
   "cell_type": "code",
   "execution_count": 527,
   "metadata": {},
   "outputs": [
    {
     "data": {
      "text/plain": [
       "['!',\n",
       " \"'\",\n",
       " \"''\",\n",
       " \"'d\",\n",
       " \"'ll\",\n",
       " \"'m\",\n",
       " \"'re\",\n",
       " \"'s\",\n",
       " \"'ve\",\n",
       " ',',\n",
       " '-',\n",
       " '.',\n",
       " ';',\n",
       " '?',\n",
       " 'A',\n",
       " 'About',\n",
       " 'Adams',\n",
       " 'Again',\n",
       " 'All',\n",
       " 'An']"
      ]
     },
     "execution_count": 527,
     "metadata": {},
     "output_type": "execute_result"
    }
   ],
   "source": [
    "#show sorted vocab list\n",
    "sorted(nltk.FreqDist([w for w in WordNet]).keys())[:20]"
   ]
  },
  {
   "cell_type": "code",
   "execution_count": 430,
   "metadata": {},
   "outputs": [
    {
     "data": {
      "text/plain": [
       "680"
      ]
     },
     "execution_count": 430,
     "metadata": {},
     "output_type": "execute_result"
    }
   ],
   "source": [
    "#we need to account for duplication due to case\n",
    "len(nltk.FreqDist([w.lower() for w in WordNet]).keys())"
   ]
  },
  {
   "cell_type": "code",
   "execution_count": 528,
   "metadata": {},
   "outputs": [
    {
     "data": {
      "text/plain": [
       "['!',\n",
       " \"'\",\n",
       " \"''\",\n",
       " \"'d\",\n",
       " \"'ll\",\n",
       " \"'m\",\n",
       " \"'re\",\n",
       " \"'s\",\n",
       " \"'ve\",\n",
       " ',',\n",
       " '-',\n",
       " '.',\n",
       " ';',\n",
       " '?',\n",
       " '``',\n",
       " 'a',\n",
       " 'about',\n",
       " 'above',\n",
       " 'across',\n",
       " 'action']"
      ]
     },
     "execution_count": 528,
     "metadata": {},
     "output_type": "execute_result"
    }
   ],
   "source": [
    "#show sorted vocab list\n",
    "sorted(nltk.FreqDist([w.lower() for w in WordNet]).keys())[:20]"
   ]
  },
  {
   "cell_type": "markdown",
   "metadata": {},
   "source": [
    "### There are 659 unique words in the WordNet corpus"
   ]
  },
  {
   "cell_type": "markdown",
   "metadata": {},
   "source": [
    "## 3. How many unique words represent half of the total words in the corpus?\n",
    "\n",
    "    a)  analyze frequency distributions\n",
    "    b)  get frequency for each distinct word length"
   ]
  },
  {
   "cell_type": "code",
   "execution_count": 431,
   "metadata": {},
   "outputs": [
    {
     "data": {
      "text/plain": [
       "659"
      ]
     },
     "execution_count": 431,
     "metadata": {},
     "output_type": "execute_result"
    }
   ],
   "source": [
    "#strip words containing non-alpha characters-there a no legit contractions in this corpus\n",
    "len(nltk.FreqDist([w.lower() for w in WordNet if w.isalpha()]).keys())"
   ]
  },
  {
   "cell_type": "code",
   "execution_count": 529,
   "metadata": {
    "scrolled": true
   },
   "outputs": [
    {
     "data": {
      "text/plain": [
       "['a',\n",
       " 'about',\n",
       " 'above',\n",
       " 'across',\n",
       " 'action',\n",
       " 'adams',\n",
       " 'add',\n",
       " 'admit',\n",
       " 'admitted',\n",
       " 'advantage']"
      ]
     },
     "execution_count": 529,
     "metadata": {},
     "output_type": "execute_result"
    }
   ],
   "source": [
    "sorted(nltk.FreqDist([w.lower() for w in WordNet if w.isalpha()]).keys())[:10]"
   ]
  },
  {
   "cell_type": "code",
   "execution_count": 433,
   "metadata": {},
   "outputs": [
    {
     "data": {
      "text/plain": [
       "659"
      ]
     },
     "execution_count": 433,
     "metadata": {},
     "output_type": "execute_result"
    }
   ],
   "source": [
    "fdist = nltk.FreqDist([w.lower() for w in WordNet if w.isalpha()])\n",
    "sorted(fdist.keys())\n",
    "len(vocab)"
   ]
  },
  {
   "cell_type": "code",
   "execution_count": 434,
   "metadata": {},
   "outputs": [
    {
     "data": {
      "image/png": "[encoded data removed]",
      "text/plain": [
       "<Figure size 432x288 with 1 Axes>"
      ]
     },
     "metadata": {
      "needs_background": "light"
     },
     "output_type": "display_data"
    },
    {
     "data": {
      "text/plain": [
       "<matplotlib.axes._subplots.AxesSubplot at 0x1a1f7c7550>"
      ]
     },
     "execution_count": 434,
     "metadata": {},
     "output_type": "execute_result"
    }
   ],
   "source": [
    "fdist.plot(100,cumulative=True)"
   ]
  },
  {
   "cell_type": "code",
   "execution_count": 435,
   "metadata": {},
   "outputs": [
    {
     "name": "stdout",
     "output_type": "stream",
     "text": [
      "998\n"
     ]
    }
   ],
   "source": [
    "#How many unique words represent half of the total words in the corpus?\n",
    "#There are 1997 words with 659 are distinct occurances\n",
    "threshold = round(len([w.lower() for w in WordNet if w.isalpha()])/2)\n",
    "print(threshold)"
   ]
  },
  {
   "cell_type": "code",
   "execution_count": 437,
   "metadata": {},
   "outputs": [
    {
     "name": "stdout",
     "output_type": "stream",
     "text": [
      "The midpoint word is 'tell'  and corresponds to a  count of  6\n",
      "There are 48 unique words representing half the WordNet corpus.\n"
     ]
    }
   ],
   "source": [
    "'''Returns a dictionary of words mapped to how often they occur'''\n",
    "word_frequencies = nltk.FreqDist([w.lower() for w in WordNet if w.isalpha()])\n",
    "wc = 0\n",
    "fc = 0\n",
    "fw = ''\n",
    "unique = 0\n",
    "'''Sort the above result by the frequency of each word'''\n",
    "sorted_counts = sorted(word_frequencies.items() , key = lambda x: x[1], reverse = True)\n",
    "d = dict(sorted_counts)   \n",
    "for k,v in d.items():\n",
    "    wc = wc + v\n",
    "    if wc < threshold:\n",
    "        fc = v\n",
    "        fw = k\n",
    "        unique = unique + 1\n",
    "print(\"The midpoint word is \" + \"'\" + fw + \"'\", ' and corresponds to a  count of ', fc)\n",
    "print('There are ' + str(unique) + ' unique words representing half the WordNet corpus.')"
   ]
  },
  {
   "cell_type": "markdown",
   "metadata": {},
   "source": [
    "### The midpoint word is 'tell'  and corresponds to a count of 6 words.\n",
    "### There are 48 unique words representing half the WordNet corpus."
   ]
  },
  {
   "cell_type": "code",
   "execution_count": 416,
   "metadata": {},
   "outputs": [
    {
     "data": {
      "text/plain": [
       "79"
      ]
     },
     "execution_count": 416,
     "metadata": {},
     "output_type": "execute_result"
    }
   ],
   "source": [
    "# index of \"tell\" in WordNet corpus\n",
    "[w.lower() for w in WordNet if w.isalpha()].index('tell')"
   ]
  },
  {
   "cell_type": "markdown",
   "metadata": {},
   "source": [
    "## 4. Identify the 200 highest frequency words in this corpus."
   ]
  },
  {
   "cell_type": "code",
   "execution_count": 530,
   "metadata": {},
   "outputs": [
    {
     "name": "stdout",
     "output_type": "stream",
     "text": [
      "The # 1 unique word is 'the'  and corresponds to a  count of  104\n",
      "The # 2 unique word is 'to'  and corresponds to a  count of  79\n",
      "The # 3 unique word is 'and'  and corresponds to a  count of  58\n",
      "The # 4 unique word is 'a'  and corresponds to a  count of  56\n",
      "The # 5 unique word is 'he'  and corresponds to a  count of  54\n",
      "The # 6 unique word is 'jess'  and corresponds to a  count of  47\n",
      "The # 7 unique word is 'his'  and corresponds to a  count of  45\n",
      "The # 8 unique word is 'curt'  and corresponds to a  count of  39\n",
      "The # 9 unique word is 'it'  and corresponds to a  count of  38\n"
     ]
    }
   ],
   "source": [
    "'''Returns a dictionary of words mapped to how often they occur'''\n",
    "word_frequencies = nltk.FreqDist([w.lower() for w in WordNet if w.isalpha()])\n",
    "wc = 0\n",
    "fc = 0\n",
    "fw = ''\n",
    "unique = 0\n",
    "'''Sort the above result by the frequency of each word'''\n",
    "sorted_counts = sorted(word_frequencies.items() , key = lambda x: x[1], reverse = True)\n",
    "d = dict(sorted_counts)   \n",
    "for k,v in d.items():\n",
    "    wc = wc + v\n",
    "    if unique < 200:\n",
    "        fc = v\n",
    "        fw = k\n",
    "        unique = unique + 1\n",
    "    if unique < 10:\n",
    "        print(\"The # \" + str(unique) + \" unique word is \" + \"'\" + fw + \"'\", ' and corresponds to a  count of ', fc)"
   ]
  },
  {
   "cell_type": "markdown",
   "metadata": {},
   "source": [
    "## 5. Create a graph that shows the relative frequency of these 200 words."
   ]
  },
  {
   "cell_type": "code",
   "execution_count": 506,
   "metadata": {},
   "outputs": [
    {
     "data": {
      "image/png": "[encoded data removed]",
      "text/plain": [
       "<Figure size 432x288 with 1 Axes>"
      ]
     },
     "metadata": {
      "needs_background": "light"
     },
     "output_type": "display_data"
    },
    {
     "data": {
      "text/plain": [
       "<matplotlib.axes._subplots.AxesSubplot at 0x1a203cdeb8>"
      ]
     },
     "execution_count": 506,
     "metadata": {},
     "output_type": "execute_result"
    }
   ],
   "source": [
    "'''Returns a top 200 dictionary of words mapped to how often they occur'''\n",
    "word_frequencies = nltk.FreqDist(w.lower() for w in WordNet if w.isalpha())\n",
    "top200 = word_frequencies.most_common(200)\n",
    "#won't plot w/o reverse engineering to frequency distribution--must be simpler way\n",
    "nltk.FreqDist(list(dict(top200).keys())).plot(50,cumulative=True)"
   ]
  },
  {
   "cell_type": "markdown",
   "metadata": {},
   "source": [
    "## 6. Does the observed relative frequency of these words follow Zipf’s law? \n",
    "reference link:\n",
    "https://stats.stackexchange.com/questions/331219/characterizing-fitting-word-count-data-into-zipf-power-law-lognormal\n",
    "https://en.wikipedia.org/wiki/Zipf%27s_law\n",
    "\n",
    "    Based on the plot below, there are high frequency word counts and the negative slope of this line \n",
    "    roughly corresponds to Zipf's law.  Paraphrased from the Wikipedia entry . . .\n",
    "\n",
    "###### given some corpus of natural language utterances, the frequency of any word is inversely proportional \n",
    "    to its rank in the frequency table. Thus the most frequent word will occur approximately twice \n",
    "    as often as the second most frequent word, three times as often as the third most frequent word, \n",
    "    etc.: the rank-frequency distribution is an inverse relation."
   ]
  },
  {
   "cell_type": "code",
   "execution_count": 520,
   "metadata": {},
   "outputs": [
    {
     "data": {
      "image/png": "[encoded data removed]",
      "text/plain": [
       "<Figure size 432x288 with 1 Axes>"
      ]
     },
     "metadata": {
      "needs_background": "light"
     },
     "output_type": "display_data"
    }
   ],
   "source": [
    "import nltk.corpus\n",
    "import numpy as np\n",
    "import matplotlib.pyplot as plt\n",
    "from collections import Counter\n",
    "# substituted The Brown Corpus\n",
    "counter_of_words = Counter([w.lower() for w in WordNet if w.isalpha()])\n",
    "counter_of_counts = Counter(counter_of_words.values())\n",
    "word_counts = np.array(list(counter_of_counts.keys()))\n",
    "freq_of_word_counts = np.array(list(counter_of_counts.values()))\n",
    "plt.scatter(np.log(word_counts), np.log(freq_of_word_counts))\n",
    "plt.xlabel('Log of word frequency')\n",
    "plt.ylabel('Log of number of such words')\n",
    "plt.title('Power law for word frequencies')\n",
    "plt.show();"
   ]
  },
  {
   "cell_type": "markdown",
   "metadata": {},
   "source": [
    "## 7. In what ways do you think the frequency of the words in this corpus differ from “all words          in all corpora.”\n",
    "\n",
    "    *semcor.words('brown2/tagfiles/br-n12.xml')  # doctest: +ELLIPSIS* is a subset of the Brown Univesity \n",
    "    WordNet corpus which is derived from a library of texts.  If its a representative random sample, \n",
    "    my sense is that this corpus follows more formal rules for written English as opposed to all corpora \n",
    "    which may tend to follow more relaxed rules.  My presumption is that less formal English rhetoric will\n",
    "    have fewer words used with greater frequency of use.  Therefore the Zipf curve I believe would be steeper\n",
    "    with a smaller spread of low use words at the bottom of the plot."
   ]
  },
  {
   "cell_type": "markdown",
   "metadata": {},
   "source": []
  }
 ],
 "metadata": {
  "kernelspec": {
   "display_name": "Python 3",
   "language": "python",
   "name": "python3"
  },
  "language_info": {
   "codemirror_mode": {
    "name": "ipython",
    "version": 3
   },
   "file_extension": ".py",
   "mimetype": "text/x-python",
   "name": "python",
   "nbconvert_exporter": "python",
   "pygments_lexer": "ipython3",
   "version": "3.7.3"
  }
 },
 "nbformat": 4,
 "nbformat_minor": 2
}
